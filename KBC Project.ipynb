{
 "cells": [
  {
   "cell_type": "code",
   "execution_count": 2,
   "id": "eeda79f1-dea3-4ecc-b1d9-b30b2a57ff4d",
   "metadata": {},
   "outputs": [
    {
     "name": "stdout",
     "output_type": "stream",
     "text": [
      "pygame 2.5.2 (SDL 2.28.3, Python 3.11.7)\n",
      "Hello from the pygame community. https://www.pygame.org/contribute.html\n"
     ]
    }
   ],
   "source": [
    "import pygame"
   ]
  },
  {
   "cell_type": "code",
   "execution_count": 3,
   "id": "0563cc28-193a-4420-b589-aa12d8ea8127",
   "metadata": {},
   "outputs": [
    {
     "name": "stdout",
     "output_type": "stream",
     "text": [
      "Requirement already satisfied: gtts in c:\\users\\ezrap\\anaconda3\\lib\\site-packages (2.5.1)\n",
      "Requirement already satisfied: requests<3,>=2.27 in c:\\users\\ezrap\\anaconda3\\lib\\site-packages (from gtts) (2.31.0)\n",
      "Requirement already satisfied: click<8.2,>=7.1 in c:\\users\\ezrap\\anaconda3\\lib\\site-packages (from gtts) (8.1.7)\n",
      "Requirement already satisfied: colorama in c:\\users\\ezrap\\anaconda3\\lib\\site-packages (from click<8.2,>=7.1->gtts) (0.4.6)\n",
      "Requirement already satisfied: charset-normalizer<4,>=2 in c:\\users\\ezrap\\anaconda3\\lib\\site-packages (from requests<3,>=2.27->gtts) (2.0.4)\n",
      "Requirement already satisfied: idna<4,>=2.5 in c:\\users\\ezrap\\anaconda3\\lib\\site-packages (from requests<3,>=2.27->gtts) (3.4)\n",
      "Requirement already satisfied: urllib3<3,>=1.21.1 in c:\\users\\ezrap\\anaconda3\\lib\\site-packages (from requests<3,>=2.27->gtts) (2.0.7)\n",
      "Requirement already satisfied: certifi>=2017.4.17 in c:\\users\\ezrap\\anaconda3\\lib\\site-packages (from requests<3,>=2.27->gtts) (2024.2.2)\n",
      "Note: you may need to restart the kernel to use updated packages.\n"
     ]
    }
   ],
   "source": [
    "pip install gtts"
   ]
  },
  {
   "cell_type": "code",
   "execution_count": 6,
   "id": "4764a182-49d3-4db9-b043-481be335f2f4",
   "metadata": {},
   "outputs": [
    {
     "name": "stdout",
     "output_type": "stream",
     "text": [
      "Done\n"
     ]
    }
   ],
   "source": [
    "from gtts import gTTS\n",
    "tts = gTTS('Hello ezra welcome to kbc')\n",
    "tts.save('kbc_welcome.mp3')\n",
    "print('Done')"
   ]
  },
  {
   "cell_type": "code",
   "execution_count": 8,
   "id": "9f28b5e9-05f8-4553-a241-a6d979fb66a9",
   "metadata": {},
   "outputs": [
    {
     "data": {
      "text/plain": [
       "(5, 0)"
      ]
     },
     "execution_count": 8,
     "metadata": {},
     "output_type": "execute_result"
    }
   ],
   "source": [
    "pygame.init()"
   ]
  },
  {
   "cell_type": "code",
   "execution_count": 7,
   "id": "c58eed51-5ddd-4070-954d-dc27e018860c",
   "metadata": {},
   "outputs": [
    {
     "name": "stdout",
     "output_type": "stream",
     "text": [
      "DONE\n"
     ]
    }
   ],
   "source": [
    "from gtts import gTTS\n",
    "tts = gTTS('Hello mister ezra welcome to KBC')\n",
    "tts.save('kbc_welcome.mp3')\n",
    "print('DONE')"
   ]
  },
  {
   "cell_type": "code",
   "execution_count": null,
   "id": "2d14e456-324b-47d7-9947-44b52a56ff6a",
   "metadata": {},
   "outputs": [
    {
     "name": "stdin",
     "output_type": "stream",
     "text": [
      "Enter your name habibi\n"
     ]
    },
    {
     "name": "stdout",
     "output_type": "stream",
     "text": [
      "                                                       Welcome to KBC                                                      \n"
     ]
    }
   ],
   "source": [
    "import time\n",
    "questions = ['which of the following is the capital of Arunachal Pradesh?',\n",
    "             'What are the major languages spoken in Arunachal Pradesh?',\n",
    "             'What is the state flower of Haryana?'\n",
    "             'what is the capital of india??']\n",
    "\n",
    "\n",
    "options = [['Itanagar','Dispur','Imphal','Panaji'],\n",
    "           ['Odia and Telugu','Telugu and Urdu','Telugu and kannada','All of the above'],\n",
    "           ['Lotus','Rhododendron','Golden shower','Not declared'],\n",
    "           ['Delhi','Mumbai','Pune','Punjab']]\n",
    "\n",
    "correct_op = ['A','B','A','A']\n",
    "\n",
    "op = 'ABCD'\n",
    "name = input('Enter your name' )\n",
    "\n",
    "print('Welcome to KBC'.center(123,' '))\n",
    "audio = pygame.mixer.Sound(r\"C:\\Users\\EZRAP\\Downloads\\kbc_bg (2).mp3\")\n",
    "audio.play()\n",
    "time.sleep(7)\n",
    "audio.stop()                          \n",
    "print(f'Hello {name} Welcome to KBC')\n",
    "\n",
    "# greet\n",
    "tts = gTTS(f'Hello {name} Welcome to KBC')\n",
    "tts.save('welcome.mp3')\n",
    "audio = pygame.mixer.Sound('welcome.mp3')\n",
    "audio.play()\n",
    "time.sleep(3)\n",
    "\n",
    "\n",
    "for index,value in enumerate(questions):\n",
    "    print(f'Q{index+1}:{value}')\n",
    "\n",
    "    # Questions audio part\n",
    "    tts = gTTS(value)\n",
    "    tts.save('question.mp3')\n",
    "    audio = pygame.mixer.Sound('question.mp3')\n",
    "    audio.play()\n",
    "    time.sleep(5)\n",
    "    \n",
    "    # options part\n",
    "    for i,j in enumerate(options[index]):\n",
    "        print(f' {op[i]}: {j}')\n",
    "        \n",
    "        tts = gTTS(f'option {op[i]} {j}')\n",
    "        tts.save('questions.mp3')\n",
    "        audio = pygame.mixer.Sound('questions.mp3')\n",
    "        audio.play()\n",
    "        \n",
    "        if 0<=len(j)<=13:\n",
    "            time.sleep(1.3)\n",
    "        elif 13<len(j)<=25:\n",
    "            time.sleep(1.7)\n",
    "        else:\n",
    "            time.sleep(2)\n",
    "\n",
    "    user = input('Enter Your Choice: ').upper()\n",
    "    if user == correct_op[index]:\n",
    "        print('Right Answer!!')\n",
    "\n",
    "        tts = gTTS(f'you are right')\n",
    "        tts.save('right.mp3')\n",
    "        audio = pygame.mixer.Sound('right.mp3')\n",
    "        audio.play()\n",
    "        time.sleep(1.5)\n",
    "\n",
    "\n",
    "    else:\n",
    "        print('Wrong Answer!!')\n",
    "        break\n",
    "    print()\n",
    "\n",
    "else:\n",
    "    print('you won 7 crore!!')"
   ]
  },
  {
   "cell_type": "code",
   "execution_count": null,
   "id": "2dfae7a2-f749-45b5-ac27-f37a26edd0bb",
   "metadata": {},
   "outputs": [],
   "source": []
  },
  {
   "cell_type": "code",
   "execution_count": null,
   "id": "d3e84292-9407-4a3d-aa09-ba2fa5868102",
   "metadata": {},
   "outputs": [],
   "source": []
  }
 ],
 "metadata": {
  "kernelspec": {
   "display_name": "Python 3 (ipykernel)",
   "language": "python",
   "name": "python3"
  },
  "language_info": {
   "codemirror_mode": {
    "name": "ipython",
    "version": 3
   },
   "file_extension": ".py",
   "mimetype": "text/x-python",
   "name": "python",
   "nbconvert_exporter": "python",
   "pygments_lexer": "ipython3",
   "version": "3.11.7"
  }
 },
 "nbformat": 4,
 "nbformat_minor": 5
}
